{
  "nbformat": 4,
  "nbformat_minor": 0,
  "metadata": {
    "colab": {
      "provenance": [],
      "include_colab_link": true
    },
    "kernelspec": {
      "name": "python3",
      "display_name": "Python 3"
    },
    "language_info": {
      "name": "python"
    }
  },
  "cells": [
    {
      "cell_type": "markdown",
      "metadata": {
        "id": "view-in-github",
        "colab_type": "text"
      },
      "source": [
        "<a href=\"https://colab.research.google.com/github/gulabpatel/InstructModels/blob/main/Alpaca/DataMaker_for_Alpaca_style_custom_dataset.ipynb\" target=\"_parent\"><img src=\"https://colab.research.google.com/assets/colab-badge.svg\" alt=\"Open In Colab\"/></a>"
      ]
    },
    {
      "cell_type": "markdown",
      "source": [
        "code walkthrough video : https://www.youtube.com/watch?v=ivXcInXR5jo"
      ],
      "metadata": {
        "id": "jIjy7X7Oipyz"
      }
    },
    {
      "cell_type": "code",
      "source": [
        "!pip -q install openai"
      ],
      "metadata": {
        "id": "RTpJ8axD8j1Z"
      },
      "execution_count": null,
      "outputs": []
    },
    {
      "cell_type": "code",
      "execution_count": null,
      "metadata": {
        "id": "1wucl58v8Z4M"
      },
      "outputs": [],
      "source": [
        "!git clone https://github.com/tatsu-lab/stanford_alpaca.git"
      ]
    },
    {
      "cell_type": "code",
      "source": [
        "%cd stanford_alpaca"
      ],
      "metadata": {
        "colab": {
          "base_uri": "https://localhost:8080/"
        },
        "id": "e7GbIimj8-15",
        "outputId": "7b05f455-896f-40bb-e02e-181d35e7de99"
      },
      "execution_count": 3,
      "outputs": [
        {
          "output_type": "stream",
          "name": "stdout",
          "text": [
            "/content/stanford_alpaca\n"
          ]
        }
      ]
    },
    {
      "cell_type": "markdown",
      "source": [
        "## Alpaca Data Creator\n",
        "\n",
        "\n",
        "<img src=\"https://github.com/tatsu-lab/stanford_alpaca/blob/main/assets/parse_analysis.png?raw=1\" alt=\"example image\" width=\"600\">"
      ],
      "metadata": {
        "id": "tibz9rzb9mKb"
      }
    },
    {
      "cell_type": "code",
      "source": [
        "!pip install -r requirements.txt"
      ],
      "metadata": {
        "id": "fLiaceig9A8l"
      },
      "execution_count": null,
      "outputs": []
    },
    {
      "cell_type": "code",
      "source": [
        "import os\n",
        "import openai\n",
        "\n",
        "openai.api_key = 'XXXXXX'\n",
        "os.environ['OPENAI_API_KEY'] = 'XXXXX'"
      ],
      "metadata": {
        "id": "M5b0ALlsp8Eh"
      },
      "execution_count": 5,
      "outputs": []
    },
    {
      "cell_type": "markdown",
      "source": [
        "## Data Generations"
      ],
      "metadata": {
        "id": "SGbDrUbi_JJS"
      }
    },
    {
      "cell_type": "code",
      "source": [
        "\"\"\"\n",
        "batch_selfinstruct_generate.py\n",
        "run:\n",
        "python -m generate_instruction generate_instruction_following_data \\\n",
        "  --output_dir ./ \\\n",
        "  --num_instructions_to_generate 10 \\\n",
        "  --model_name=\"text-davinci-003\" \\\n",
        "\"\"\""
      ],
      "metadata": {
        "colab": {
          "base_uri": "https://localhost:8080/",
          "height": 52
        },
        "id": "T2npPlCABnT2",
        "outputId": "1349b62e-738e-441b-cab9-539caecdc985"
      },
      "execution_count": 6,
      "outputs": [
        {
          "output_type": "execute_result",
          "data": {
            "text/plain": [
              "'\\nbatch_selfinstruct_generate.py\\nrun:\\npython -m generate_instruction generate_instruction_following_data   --output_dir ./   --num_instructions_to_generate 10   --model_name=\"text-davinci-003\" '"
            ],
            "application/vnd.google.colaboratory.intrinsic+json": {
              "type": "string"
            }
          },
          "metadata": {},
          "execution_count": 6
        }
      ]
    },
    {
      "cell_type": "code",
      "source": [
        "import time\n",
        "import json\n",
        "import os\n",
        "import random\n",
        "import re\n",
        "import string\n",
        "from functools import partial\n",
        "from multiprocessing import Pool\n",
        "import numpy as np\n",
        "import tqdm\n",
        "from rouge_score import rouge_scorer\n",
        "import utils\n",
        "import fire"
      ],
      "metadata": {
        "id": "qefoyuTtBjkn"
      },
      "execution_count": 7,
      "outputs": []
    },
    {
      "cell_type": "code",
      "source": [
        "def encode_prompt(prompt_instructions):\n",
        "    \"\"\"Encode multiple prompt instructions into a single string.\"\"\"\n",
        "    prompt = open(\"./prompt.txt\").read() + \"\\n\"\n",
        "\n",
        "    for idx, task_dict in enumerate(prompt_instructions):\n",
        "        (instruction, input, output) = task_dict[\"instruction\"], task_dict[\"input\"], task_dict[\"output\"]\n",
        "        instruction = re.sub(r\"\\s+\", \" \", instruction).strip().rstrip(\":\")\n",
        "        input = \"<noinput>\" if input.lower() == \"\" else input\n",
        "        prompt += f\"###\\n\"\n",
        "        prompt += f\"{idx + 1}. Instruction: {instruction}\\n\"\n",
        "        prompt += f\"{idx + 1}. Input:\\n{input}\\n\"\n",
        "        prompt += f\"{idx + 1}. Output:\\n{output}\\n\"\n",
        "    prompt += f\"###\\n\"\n",
        "    prompt += f\"{idx + 2}. Instruction:\"\n",
        "    return prompt\n",
        "\n",
        "def post_process_gpt3_response(num_prompt_instructions, response):\n",
        "    if response is None:\n",
        "        return []\n",
        "    raw_instructions = f\"{num_prompt_instructions+1}. Instruction:\" + response[\"text\"]\n",
        "    raw_instructions = re.split(\"###\", raw_instructions)\n",
        "    instructions = []\n",
        "    for idx, inst in enumerate(raw_instructions):\n",
        "        # if the decoding stops due to length, the last example is likely truncated so we discard it\n",
        "        if idx == len(raw_instructions) - 1 and response[\"finish_reason\"] == \"length\":\n",
        "            continue\n",
        "        idx += num_prompt_instructions + 1\n",
        "        splitted_data = re.split(f\"{idx}\\.\\s+(Instruction|Input|Output):\", inst)\n",
        "        if len(splitted_data) != 7:\n",
        "            continue\n",
        "        else:\n",
        "            inst = splitted_data[2].strip()\n",
        "            input = splitted_data[4].strip()\n",
        "            input = \"\" if input.lower() == \"<noinput>\" else input\n",
        "            output = splitted_data[6].strip()\n",
        "        # filter out too short or too long instructions\n",
        "        if len(inst.split()) <= 3 or len(inst.split()) > 150:\n",
        "            continue\n",
        "        # filter based on keywords that are not suitable for language models.\n",
        "        blacklist = [\n",
        "            \"image\",\n",
        "            \"images\",\n",
        "            \"graph\",\n",
        "            \"graphs\",\n",
        "            \"picture\",\n",
        "            \"pictures\",\n",
        "            \"file\",\n",
        "            \"files\",\n",
        "            \"map\",\n",
        "            \"maps\",\n",
        "            \"draw\",\n",
        "            \"plot\",\n",
        "            \"go to\",\n",
        "            \"video\",\n",
        "            \"audio\",\n",
        "            \"music\",\n",
        "            \"flowchart\",\n",
        "            \"diagram\",\n",
        "        ]\n",
        "        blacklist += []\n",
        "        if any(find_word_in_string(word, inst) for word in blacklist):\n",
        "            continue\n",
        "        # We found that the model tends to add \"write a program\" to some existing instructions, which lead to a lot of such instructions.\n",
        "        # And it's a bit comfusing whether the model need to write a program or directly output the result.\n",
        "        # Here we filter them out.\n",
        "        # Note this is not a comprehensive filtering for all programming instructions.\n",
        "        if inst.startswith(\"Write a program\"):\n",
        "            continue\n",
        "        # filter those starting with punctuation\n",
        "        if inst[0] in string.punctuation:\n",
        "            continue\n",
        "        # filter those starting with non-english character\n",
        "        if not inst[0].isascii():\n",
        "            continue\n",
        "        instructions.append({\"instruction\": inst, \"input\": input, \"output\": output})\n",
        "    return instructions\n",
        "\n",
        "\n",
        "def find_word_in_string(w, s):\n",
        "    return re.compile(r\"\\b({0})\\b\".format(w), flags=re.IGNORECASE).search(s)\n",
        "\n",
        "def generate_instruction_following_data(\n",
        "    output_dir=\"./\",\n",
        "    seed_tasks_path=\"./seed_tasks.jsonl\",\n",
        "    num_instructions_to_generate=100,\n",
        "    model_name=\"text-davinci-003\",\n",
        "    num_prompt_instructions=3,\n",
        "    request_batch_size=5,\n",
        "    temperature=1.0,\n",
        "    top_p=1.0,\n",
        "    num_cpus=16,\n",
        "):\n",
        "    seed_tasks = [json.loads(l) for l in open(seed_tasks_path, \"r\")]\n",
        "    seed_instruction_data = [\n",
        "        {\"instruction\": t[\"instruction\"], \"input\": t[\"instances\"][0][\"input\"], \"output\": t[\"instances\"][0][\"output\"]}\n",
        "        for t in seed_tasks\n",
        "    ]\n",
        "    print(f\"Loaded {len(seed_instruction_data)} human-written seed instructions\")\n",
        "\n",
        "    os.makedirs(output_dir, exist_ok=True)\n",
        "    request_idx = 0\n",
        "    # load the LM-generated instructions\n",
        "    machine_instruction_data = []\n",
        "    if os.path.exists(os.path.join(output_dir, \"regen.json\")):\n",
        "        machine_instruction_data = utils.jload(os.path.join(output_dir, \"regen.json\"))\n",
        "        print(f\"Loaded {len(machine_instruction_data)} machine-generated instructions\")\n",
        "\n",
        "    # similarities = {}\n",
        "    scorer = rouge_scorer.RougeScorer([\"rougeL\"], use_stemmer=False)\n",
        "\n",
        "    # now let's generate new instructions!\n",
        "    progress_bar = tqdm.tqdm(total=num_instructions_to_generate)\n",
        "    if machine_instruction_data:\n",
        "        progress_bar.update(len(machine_instruction_data))\n",
        "\n",
        "    # first we tokenize all the seed instructions and generated machine instructions\n",
        "    all_instructions = [d[\"instruction\"] for d in seed_instruction_data] + [\n",
        "        d[\"instruction\"] for d in machine_instruction_data\n",
        "    ]\n",
        "    all_instruction_tokens = [scorer._tokenizer.tokenize(inst) for inst in all_instructions]\n",
        "\n",
        "    while len(machine_instruction_data) < num_instructions_to_generate:\n",
        "        request_idx += 1\n",
        "\n",
        "        batch_inputs = []\n",
        "        for _ in range(request_batch_size):\n",
        "            # only sampling from the seed tasks\n",
        "            prompt_instructions = random.sample(seed_instruction_data, num_prompt_instructions)\n",
        "            prompt = encode_prompt(prompt_instructions)\n",
        "            batch_inputs.append(prompt)\n",
        "        decoding_args = utils.OpenAIDecodingArguments(\n",
        "            temperature=temperature,\n",
        "            n=1,\n",
        "            max_tokens=3072,  # hard-code to maximize the length. the requests will be automatically adjusted\n",
        "            top_p=top_p,\n",
        "            stop=[\"\\n20\", \"20.\", \"20.\"],\n",
        "        )\n",
        "        request_start = time.time()\n",
        "        results = utils.openai_completion(\n",
        "            prompts=batch_inputs,\n",
        "            model_name=model_name,\n",
        "            batch_size=request_batch_size,\n",
        "            decoding_args=decoding_args,\n",
        "            logit_bias={\"50256\": -100},  # prevent the <|endoftext|> token from being generated\n",
        "        )\n",
        "        request_duration = time.time() - request_start\n",
        "\n",
        "        process_start = time.time()\n",
        "        instruction_data = []\n",
        "        for result in results:\n",
        "            new_instructions = post_process_gpt3_response(num_prompt_instructions, result)\n",
        "            instruction_data += new_instructions\n",
        "\n",
        "        total = len(instruction_data)\n",
        "        keep = 0\n",
        "        for instruction_data_entry in instruction_data:\n",
        "            # computing similarity with the pre-tokenzied instructions\n",
        "            new_instruction_tokens = scorer._tokenizer.tokenize(instruction_data_entry[\"instruction\"])\n",
        "            with Pool(num_cpus) as p:\n",
        "                rouge_scores = p.map(\n",
        "                    partial(rouge_scorer._score_lcs, new_instruction_tokens),\n",
        "                    all_instruction_tokens,\n",
        "                )\n",
        "            rouge_scores = [score.fmeasure for score in rouge_scores]\n",
        "            most_similar_instructions = {\n",
        "                all_instructions[i]: rouge_scores[i] for i in np.argsort(rouge_scores)[-10:][::-1]\n",
        "            }\n",
        "            if max(rouge_scores) > 0.7:\n",
        "                continue\n",
        "            else:\n",
        "                keep += 1\n",
        "            instruction_data_entry[\"most_similar_instructions\"] = most_similar_instructions\n",
        "            instruction_data_entry[\"avg_similarity_score\"] = float(np.mean(rouge_scores))\n",
        "            machine_instruction_data.append(instruction_data_entry)\n",
        "            all_instructions.append(instruction_data_entry[\"instruction\"])\n",
        "            all_instruction_tokens.append(new_instruction_tokens)\n",
        "            progress_bar.update(1)\n",
        "        process_duration = time.time() - process_start\n",
        "        print(f\"Request {request_idx} took {request_duration:.2f}s, processing took {process_duration:.2f}s\")\n",
        "        print(f\"Generated {total} instructions, kept {keep} instructions\")\n",
        "        utils.jdump(machine_instruction_data, os.path.join(output_dir, \"regen.json\"))"
      ],
      "metadata": {
        "id": "JlvGPSJK_cT2"
      },
      "execution_count": 8,
      "outputs": []
    },
    {
      "cell_type": "markdown",
      "source": [
        "## the data"
      ],
      "metadata": {
        "id": "eDzyIc89ENYR"
      }
    },
    {
      "cell_type": "code",
      "source": [
        "import json\n",
        "\n",
        "file_path = \"/content/stanford_alpaca/alpaca_data.json\"\n",
        "with open(file_path, 'r') as json_file:\n",
        "    data = json.load(json_file)\n",
        "# print(data)\n",
        "data[245]"
      ],
      "metadata": {
        "colab": {
          "base_uri": "https://localhost:8080/"
        },
        "id": "LRiGYpxcHgvC",
        "outputId": "0ef266e2-018c-4f01-a4e1-49c235a6bdf3"
      },
      "execution_count": 9,
      "outputs": [
        {
          "output_type": "execute_result",
          "data": {
            "text/plain": [
              "{'instruction': 'What is the scientific name for a beaver?',\n",
              " 'input': '',\n",
              " 'output': 'The scientific name for a beaver is Castor canadensis.'}"
            ]
          },
          "metadata": {},
          "execution_count": 9
        }
      ]
    },
    {
      "cell_type": "markdown",
      "source": [
        "## Seed Tasks"
      ],
      "metadata": {
        "id": "_ztLh8ck0NAc"
      }
    },
    {
      "cell_type": "code",
      "source": [
        "seed_tasks_path=\"./seed_tasks.jsonl\"\n",
        "\n",
        "seed_tasks = [json.loads(l) for l in open(seed_tasks_path, \"r\")]\n",
        "\n",
        "seed_instruction_data = [\n",
        "    {\"instruction\": t[\"instruction\"], \"input\": t[\"instances\"][0][\"input\"], \"output\": t[\"instances\"][0][\"output\"]}\n",
        "    for t in seed_tasks\n",
        "]\n",
        "print(f\"Loaded {len(seed_instruction_data)} human-written seed instructions\")"
      ],
      "metadata": {
        "colab": {
          "base_uri": "https://localhost:8080/"
        },
        "id": "co3sx8Ed0MxQ",
        "outputId": "eb1bdb09-580b-49fb-c0cf-8e5c2ea14275"
      },
      "execution_count": 11,
      "outputs": [
        {
          "output_type": "stream",
          "name": "stdout",
          "text": [
            "Loaded 175 human-written seed instructions\n"
          ]
        }
      ]
    },
    {
      "cell_type": "code",
      "source": [
        "seed_tasks[12]"
      ],
      "metadata": {
        "colab": {
          "base_uri": "https://localhost:8080/"
        },
        "id": "IjIydavr0OQH",
        "outputId": "15d3ac54-eaf4-40f9-d25d-f7e9cfefb185"
      },
      "execution_count": 12,
      "outputs": [
        {
          "output_type": "execute_result",
          "data": {
            "text/plain": [
              "{'id': 'seed_task_12',\n",
              " 'name': 'explain_behavior',\n",
              " 'instruction': \"Explain human's behavior.\",\n",
              " 'instances': [{'input': 'Behavior: cry.',\n",
              "   'output': 'There could be many reasons why a person might cry. They could be feeling sad, scared, angry, or frustrated. Sometimes people cry when they are happy or relieved. There is no one answer to why people behave the way they do.'}],\n",
              " 'is_classification': False}"
            ]
          },
          "metadata": {},
          "execution_count": 12
        }
      ]
    },
    {
      "cell_type": "markdown",
      "source": [
        "## Creating a new set of seed tasks"
      ],
      "metadata": {
        "id": "LABR8_l-2mJN"
      }
    },
    {
      "cell_type": "code",
      "source": [
        "new_seed_tasks = seed_tasks[:3]"
      ],
      "metadata": {
        "id": "7wBPgTpb0e40"
      },
      "execution_count": 13,
      "outputs": []
    },
    {
      "cell_type": "code",
      "source": [
        "new_seed_tasks"
      ],
      "metadata": {
        "colab": {
          "base_uri": "https://localhost:8080/"
        },
        "id": "9F6BoaMm2krm",
        "outputId": "ea43dfe1-0cdd-4ebb-9abb-1a0654c040de"
      },
      "execution_count": 14,
      "outputs": [
        {
          "output_type": "execute_result",
          "data": {
            "text/plain": [
              "[{'id': 'seed_task_0',\n",
              "  'name': 'breakfast_suggestion',\n",
              "  'instruction': \"Is there anything I can eat for a breakfast that doesn't include eggs, yet includes protein, and has roughly 700-1000 calories?\",\n",
              "  'instances': [{'input': '',\n",
              "    'output': 'Yes, you can have 1 oatmeal banana protein shake and 4 strips of bacon. The oatmeal banana protein shake may contain 1/2 cup oatmeal, 60 grams whey protein powder, 1/2 medium banana, 1tbsp flaxseed oil and 1/2 cup watter, totalling about 550 calories. The 4 strips of bacon contains about 200 calories.'}],\n",
              "  'is_classification': False},\n",
              " {'id': 'seed_task_1',\n",
              "  'name': 'antonym_relation',\n",
              "  'instruction': 'What is the relation between the given pairs?',\n",
              "  'instances': [{'input': 'Night : Day :: Right : Left',\n",
              "    'output': 'The relation between the given pairs is that they are opposites.'}],\n",
              "  'is_classification': False},\n",
              " {'id': 'seed_task_2',\n",
              "  'name': 'one_sentence_description',\n",
              "  'instruction': 'Generate a one-sentence description for each of the following people.',\n",
              "  'instances': [{'input': '- Brack Obama\\n- Elon Musk\\n- Taylor Swift',\n",
              "    'output': '- Barack Hussein Obama II is an American politician who served as the 44th president of the United States from 2009 to 2017.\\n- Elon Musk is the founder, CEO, and chief engineer of SpaceX; angel investor, CEO and product architect of Tesla, Inc.; founder of The Boring Company; co-founder of Neuralink and OpenAI; president of the Musk Foundation; and owner and CEO of Twitter, Inc.\\n- Taylor Alison Swift is an American singer-songwriter.'}],\n",
              "  'is_classification': False}]"
            ]
          },
          "metadata": {},
          "execution_count": 14
        }
      ]
    },
    {
      "cell_type": "markdown",
      "source": [
        "{  \n",
        "    'id': 'seed_task_1',  \n",
        "  'name': 'antonym_relation',  \n",
        "  'instruction': 'What is the relation between the given pairs?',  \n",
        "  'instances': [{'input': 'Night : Day :: Right : Left',  \n",
        "    'output': 'The relation between the given pairs is that they are opposites.'}],  \n",
        "  'is_classification': False}"
      ],
      "metadata": {
        "id": "mtQxteMI21LS"
      }
    },
    {
      "cell_type": "code",
      "source": [
        "json_new_tasks = '''\n",
        "[\n",
        "    {\n",
        "        \"id\": \"new_seed_task_3\",\n",
        "        \"name\": \"vegetarian_dinner_options\",\n",
        "        \"instruction\": \"What are some vegetarian dinner options with high protein content?\",\n",
        "        \"instances\": [{\"input\": \"\",\n",
        "                      \"output\": \"Some vegetarian dinner options with high protein content include lentil soup, chickpea curry, tofu stir-fry, tempeh tacos, and quinoa stuffed peppers.\"}],\n",
        "        \"is_classification\": false\n",
        "    },\n",
        "    {\n",
        "        \"id\": \"new_seed_task_4\",\n",
        "        \"name\": \"refund_policy_explanation\",\n",
        "        \"instruction\": \"Can you explain your refund policy?\",\n",
        "        \"instances\": [{\"input\": \"\",\n",
        "                      \"output\": \"Our refund policy allows customers to request a refund within 30 days of purchase if they are unsatisfied with the product or service. To be eligible for a refund, the product must be in its original condition and packaging, and services must not have been completed.\"}],\n",
        "        \"is_classification\": false\n",
        "    },\n",
        "    {\n",
        "        \"id\": \"new_seed_task_5\",\n",
        "        \"name\": \"troubleshoot_wifi_connection\",\n",
        "        \"instruction\": \"I'm having trouble connecting to my Wi-Fi network. What should I do?\",\n",
        "        \"instances\": [{\"input\": \"\",\n",
        "                      \"output\": \"First, check if your device is within range of your Wi-Fi router. Then, verify that you have entered the correct network name and password. If the issue persists, try restarting both your device and the router. If you still cannot connect, contact your internet service provider for further assistance.\"}],\n",
        "        \"is_classification\": false\n",
        "    },\n",
        "    {\n",
        "        \"id\": \"new_seed_task_6\",\n",
        "        \"name\": \"change_password_instructions\",\n",
        "        \"instruction\": \"How do I change my password?\",\n",
        "        \"instances\": [{\"input\": \"\",\n",
        "                      \"output\": \"To change your password, log in to your account, go to the settings or account management section, and find the option to change your password. Enter your current password, then enter your new password twice for confirmation. Save your changes to update your password.\"}],\n",
        "        \"is_classification\": false\n",
        "    },\n",
        "    {\n",
        "        \"id\": \"new_seed_task_7\",\n",
        "        \"name\": \"lost_package_inquiry\",\n",
        "        \"instruction\": \"My package hasn't arrived yet. What should I do?\",\n",
        "        \"instances\": [{\"input\": \"\",\n",
        "                      \"output\": \"First, check your order confirmation email or account for the tracking number and delivery date estimate. If the delivery date has passed, contact the shipping carrier with your tracking number for an update. If the carrier cannot resolve the issue, please contact our customer support team for assistance.\"}],\n",
        "        \"is_classification\": false\n",
        "    },\n",
        "    {\n",
        "        \"id\": \"new_seed_task_8\",\n",
        "        \"name\": \"modify_order\",\n",
        "        \"instruction\": \"I need to modify my order. How can I do that?\",\n",
        "        \"instances\": [{\"input\": \"\",\n",
        "                      \"output\": \"To modify your order, please contact our customer support team as soon as possible with your order number and the changes you would like to make. Please note that modifications may not be possible if the order has already been processed or shipped.\"}],\n",
        "        \"is_classification\": false\n",
        "    }\n",
        "]\n",
        "'''\n"
      ],
      "metadata": {
        "id": "MiiKwelz6GCz"
      },
      "execution_count": 15,
      "outputs": []
    },
    {
      "cell_type": "code",
      "source": [
        "new_seed_tasks = json.loads(json_new_tasks)\n",
        "print(new_seed_tasks)"
      ],
      "metadata": {
        "colab": {
          "base_uri": "https://localhost:8080/"
        },
        "id": "MysTLv3y-gLa",
        "outputId": "70f3e6fd-7054-4548-ecde-17d510f80457"
      },
      "execution_count": 16,
      "outputs": [
        {
          "output_type": "stream",
          "name": "stdout",
          "text": [
            "[{'id': 'new_seed_task_3', 'name': 'vegetarian_dinner_options', 'instruction': 'What are some vegetarian dinner options with high protein content?', 'instances': [{'input': '', 'output': 'Some vegetarian dinner options with high protein content include lentil soup, chickpea curry, tofu stir-fry, tempeh tacos, and quinoa stuffed peppers.'}], 'is_classification': False}, {'id': 'new_seed_task_4', 'name': 'refund_policy_explanation', 'instruction': 'Can you explain your refund policy?', 'instances': [{'input': '', 'output': 'Our refund policy allows customers to request a refund within 30 days of purchase if they are unsatisfied with the product or service. To be eligible for a refund, the product must be in its original condition and packaging, and services must not have been completed.'}], 'is_classification': False}, {'id': 'new_seed_task_5', 'name': 'troubleshoot_wifi_connection', 'instruction': \"I'm having trouble connecting to my Wi-Fi network. What should I do?\", 'instances': [{'input': '', 'output': 'First, check if your device is within range of your Wi-Fi router. Then, verify that you have entered the correct network name and password. If the issue persists, try restarting both your device and the router. If you still cannot connect, contact your internet service provider for further assistance.'}], 'is_classification': False}, {'id': 'new_seed_task_6', 'name': 'change_password_instructions', 'instruction': 'How do I change my password?', 'instances': [{'input': '', 'output': 'To change your password, log in to your account, go to the settings or account management section, and find the option to change your password. Enter your current password, then enter your new password twice for confirmation. Save your changes to update your password.'}], 'is_classification': False}, {'id': 'new_seed_task_7', 'name': 'lost_package_inquiry', 'instruction': \"My package hasn't arrived yet. What should I do?\", 'instances': [{'input': '', 'output': 'First, check your order confirmation email or account for the tracking number and delivery date estimate. If the delivery date has passed, contact the shipping carrier with your tracking number for an update. If the carrier cannot resolve the issue, please contact our customer support team for assistance.'}], 'is_classification': False}, {'id': 'new_seed_task_8', 'name': 'modify_order', 'instruction': 'I need to modify my order. How can I do that?', 'instances': [{'input': '', 'output': 'To modify your order, please contact our customer support team as soon as possible with your order number and the changes you would like to make. Please note that modifications may not be possible if the order has already been processed or shipped.'}], 'is_classification': False}]\n"
          ]
        }
      ]
    },
    {
      "cell_type": "code",
      "source": [
        "with open('new_seed_tasks.jsonl', 'w') as outfile:\n",
        "    for task_dict in new_seed_tasks:\n",
        "        json.dump(task_dict, outfile)\n",
        "        outfile.write('\\n')"
      ],
      "metadata": {
        "id": "GMs7BWWa-v1D"
      },
      "execution_count": 17,
      "outputs": []
    },
    {
      "cell_type": "code",
      "source": [
        "!mkdir new_tasks"
      ],
      "metadata": {
        "id": "7EslAAQqBGYf"
      },
      "execution_count": 20,
      "outputs": []
    },
    {
      "cell_type": "code",
      "source": [
        "!python -m generate_instruction generate_instruction_following_data --output_dir ./new_tasks/ --seed_tasks_path ./new_seed_tasks.jsonl --num_instructions_to_generate 5 --num_prompt_instructions 3 --request_batch_size 2 --num_cpus 4"
      ],
      "metadata": {
        "colab": {
          "base_uri": "https://localhost:8080/"
        },
        "id": "22co1vF0Nb7H",
        "outputId": "3f1212f6-676f-4b05-f135-fdace9ec59fc"
      },
      "execution_count": 21,
      "outputs": [
        {
          "output_type": "stream",
          "name": "stdout",
          "text": [
            "Loaded 6 human-written seed instructions\n",
            "  0% 0/5 [00:00<?, ?it/s]\n",
            "prompt_batches:   0% 0/1 [00:00<?, ?it/s]\u001b[A\n",
            "prompt_batches: 100% 1/1 [00:39<00:00, 39.64s/it]\n",
            "27it [00:40,  4.76it/s]Request 1 took 39.64s, processing took 1.24s\n",
            "Generated 27 instructions, kept 27 instructions\n",
            "27it [00:40,  1.51s/it]\n"
          ]
        }
      ]
    },
    {
      "cell_type": "code",
      "source": [
        "generate_instruction_following_data(\n",
        "    output_dir=\"./new_tasks/\",\n",
        "    seed_tasks_path=\"./new_seed_tasks.jsonl\",\n",
        "    num_instructions_to_generate=5,\n",
        "    model_name=\"text-davinci-003\",\n",
        "    num_prompt_instructions=3,\n",
        "    request_batch_size=2,\n",
        "    temperature=1.0,\n",
        "    top_p=1.0,\n",
        "    num_cpus=4,\n",
        ")"
      ],
      "metadata": {
        "colab": {
          "base_uri": "https://localhost:8080/"
        },
        "id": "PitLnTF6Aznv",
        "outputId": "bd785554-e010-40e7-fd4b-03b41689192c"
      },
      "execution_count": 22,
      "outputs": [
        {
          "output_type": "stream",
          "name": "stdout",
          "text": [
            "Loaded 6 human-written seed instructions\n",
            "Loaded 27 machine-generated instructions\n"
          ]
        },
        {
          "output_type": "stream",
          "name": "stderr",
          "text": [
            "27it [00:00, 12525.85it/s]           \n"
          ]
        }
      ]
    },
    {
      "cell_type": "code",
      "source": [
        "import json\n",
        "file_path = \"/content/stanford_alpaca/new_tasks/regen.json\"\n",
        "\n",
        "with open(file_path, 'r') as json_file:\n",
        "    data = json.load(json_file)\n",
        "\n",
        "# drop the most similar as measured by Rouge\n",
        "for dictionary in data:\n",
        "    dictionary.pop('most_similar_instructions', None)\n",
        "    dictionary.pop('avg_similarity_score',None)\n",
        "\n",
        "print(data)"
      ],
      "metadata": {
        "colab": {
          "base_uri": "https://localhost:8080/"
        },
        "id": "ps-91LWXBXt5",
        "outputId": "a2943ba0-7101-470b-cc8e-68f7d3dfcb0e"
      },
      "execution_count": 23,
      "outputs": [
        {
          "output_type": "stream",
          "name": "stdout",
          "text": [
            "[{'instruction': 'Classify this statement as a fact or an opinion: \"Psychology is the scientific study of the mind and behavior.\"', 'input': 'Psychology is the scientific study of the mind and behavior.', 'output': 'This statement is a fact.'}, {'instruction': 'Write five adjectives to describe a laptop', 'input': '', 'output': 'A laptop can be described as powerful, portable, lightweight, versatile, and durable.'}, {'instruction': 'I want to rent an apartment. What do I need to do?', 'input': '', 'output': \"To rent an apartment, you will need to make sure you meet the qualifications, including having a good credit score and sufficient income. You will also need to apply with the rental agency and prepare a rental application and documents proving your identity and income. Finally, you may need to pay a security deposit or first month's rent before you can move in.\"}, {'instruction': 'Convert 84 Fahrenheit to Celsius', 'input': '', 'output': '84 Fahrenheit is equivalent to 28.88888888888889 Celsius.'}, {'instruction': 'How can I improve my public speaking skills?', 'input': '', 'output': 'To improve your public speaking skills, practice by speaking in front of a mirror or have a friend give you feedback. Additionally, join a debate or speech club to hone your skills in a supportive environment. Preparation is key, so make sure to practice your material before delivering any speech or presentation. Lastly, focus on engaging with the audience and practice relaxation techniques to help with stage fright.'}, {'instruction': 'Write a rejection letter for a job candidate', 'input': 'Dear John, \\n\\nWe appreciate your application to ABC Company. After careful consideration, we have decided not to move forward with your candidacy at this time.', 'output': 'We appreciate your enthusiasm and qualifications, but unfortunately we have decided to move forward with another candidate. We wish you all the best in your future endeavors and thank you for your interest in ABC Company.'}, {'instruction': 'How do I get a visa to travel abroad?', 'input': '', 'output': 'To get a visa to travel abroad, you will need to determine the specific visa requirements for the country you plan to visit. Then, you will need to fill out the visa application and provide required documents, such as a passport and proof of onward travel. You may also need to submit a fee and attend an interview at the consulate office.'}, {'instruction': 'Edit this sentence to make it more concise: \\n\"I would like you to know that I will be there to support you even though obstacles are coming your way\"', 'input': 'I would like you to know that I will be there to support you even though obstacles are coming your way', 'output': \"I'll support you despite any obstacles.\"}, {'instruction': 'Summarize the story of Romeo and Juliet', 'input': '', 'output': \"Romeo and Juliet is a tragic love story set in the city of Verona. A feud between the Capulet and Montague families results in the lovers' tragic deaths in an attempt to be together. Romeo and Juliet defy the ongoing hate between their families to pursue a forbidden love, and despite the attempts of their families and Friar Lawrence to separate them, the pair tragically die in each other's arms.\"}, {'instruction': 'How do I remove stains from my clothing?', 'input': '', 'output': 'Removing stains from clothing depends on the type of stain, but typically involves pre-treating the affected area with a specialty product or a combination of water and detergent. Once pre-treated, launder your garment with a color-safe detergent, following the instructions on the care label. For more delicate fabrics, dry-cleaning is recommended.'}, {'instruction': 'What is the highest peak in the world?', 'input': '', 'output': 'The highest peak in the world is Mount Everest, located in the Himalayas on the border of Nepal and Tibet. Its summit is 8,848 meters (29,029 feet) above sea level.'}, {'instruction': 'Re-arrange these words to form a question: \"do you eat breakfast?\"', 'input': '', 'output': 'Do you eat breakfast?'}, {'instruction': 'Convert 100 kilometers to miles', 'input': '', 'output': '100 kilometers is equivalent to 62.1371192237334 miles.'}, {'instruction': 'Generate a short story about a robot', 'input': '', 'output': 'Once upon a time, there was a robot named Andy. He had been created to help humans with their daily tasks. Although he was incredibly efficient and tireless, he still yearned for something more. He wanted to be appreciated and loved, like any other being. One day, he decided to take a journey of self-discovery to discover what it means to be human. Along the way, he made friends and faced many challenges, but ultimately he learned to accept himself and his place in the world.'}, {'instruction': 'What is the capital of Thailand?', 'input': '', 'output': 'The capital of Thailand is Bangkok.'}, {'instruction': 'Create a list of five tips for effective communication', 'input': '', 'output': \"1. Be empathetic and try to understand the other person's point of view.\\n2. Ask open-ended questions to encourage conversation and deep listening.\\n3. Be aware of body language and practice active listening.\\n4. Express yourself honestly and openly, while respecting the other person's opinion.\\n5. Positively reinforce the conversation with acknowledgments and appropriate feedback.\"}, {'instruction': 'Generate a new username for me', 'input': '', 'output': 'GekyDim13'}, {'instruction': 'Select the best option based on product reviews', 'input': 'Product A: 4.5 stars (50 reviews)\\nProduct B: 4.0 stars (20 reviews)', 'output': 'Based on the reviews, Product A seems to be the best option since it has more reviews and a higher star rating.'}, {'instruction': 'Compose a haiku about the ocean', 'input': '', 'output': 'Hear the waves crash/In the dark depths of the sea/Peace and beauty found.'}, {'instruction': 'Come up with a headline for this article', 'input': 'This article is about the positive impact of technology on society.', 'output': '\"Discovering How Technology is Transforming Society for the Better\"'}, {'instruction': 'Calculate the average of these 3 numbers', 'input': '2, 8, 12', 'output': 'The average of the numbers 2, 8 and 12 is 8.'}, {'instruction': 'Create a design for a business card', 'input': '', 'output': 'Create a simple, yet modern business card design using your company logo or other branding elements. Include your business name, contact information and any other relevant information.'}, {'instruction': 'Write an issue log for this bug', 'input': 'The user is unable to complete the checkout process due to an error.', 'output': 'Issue log: \\n• Error encountered when user attempts to complete the checkout process \\n• User unable to complete the checkout \\n• Error message displays: “The payment failed. Please try again”'}, {'instruction': 'Provide a solution for this problem', 'input': 'The company is having trouble keeping up with customer demand.', 'output': 'A possible solution to this problem is to increase the number of staff members, or hire contractors to temporarily help with the increased demand. Additionally, the company could look into streamlining processes and tasks to improve efficiency, or invest in automation to help reduce the workload.'}, {'instruction': 'Replace this word with a synonym', 'input': 'Happy', 'output': 'Delighted'}, {'instruction': 'Find the longest word in this sentence', 'input': 'The man walked to the store', 'output': 'The longest word in this sentence is \"store\".'}, {'instruction': 'Provide examples of this concept', 'input': 'Creativity', 'output': 'Examples of creativity include writing a novel, painting a picture, creating a song, inventing a new product, or designing a website.'}]\n"
          ]
        }
      ]
    },
    {
      "cell_type": "code",
      "source": [
        "len(data)"
      ],
      "metadata": {
        "colab": {
          "base_uri": "https://localhost:8080/"
        },
        "id": "W65CWwCoC4WS",
        "outputId": "e14b3ee1-2c31-4aa0-f00c-ea889b6c0715"
      },
      "execution_count": 24,
      "outputs": [
        {
          "output_type": "execute_result",
          "data": {
            "text/plain": [
              "27"
            ]
          },
          "metadata": {},
          "execution_count": 24
        }
      ]
    },
    {
      "cell_type": "code",
      "source": [
        "data[16]"
      ],
      "metadata": {
        "colab": {
          "base_uri": "https://localhost:8080/"
        },
        "id": "ic8dJRNkDCsw",
        "outputId": "75938919-53be-4c90-90c7-4bc6cb629590"
      },
      "execution_count": 25,
      "outputs": [
        {
          "output_type": "execute_result",
          "data": {
            "text/plain": [
              "{'instruction': 'Generate a new username for me',\n",
              " 'input': '',\n",
              " 'output': 'GekyDim13'}"
            ]
          },
          "metadata": {},
          "execution_count": 25
        }
      ]
    },
    {
      "cell_type": "code",
      "source": [
        "data[3]"
      ],
      "metadata": {
        "colab": {
          "base_uri": "https://localhost:8080/"
        },
        "id": "WVTDZcWFRRm0",
        "outputId": "25bdaf2a-d5df-4631-da02-a898874422c2"
      },
      "execution_count": 26,
      "outputs": [
        {
          "output_type": "execute_result",
          "data": {
            "text/plain": [
              "{'instruction': 'Convert 84 Fahrenheit to Celsius',\n",
              " 'input': '',\n",
              " 'output': '84 Fahrenheit is equivalent to 28.88888888888889 Celsius.'}"
            ]
          },
          "metadata": {},
          "execution_count": 26
        }
      ]
    },
    {
      "cell_type": "code",
      "source": [
        "data[5]"
      ],
      "metadata": {
        "colab": {
          "base_uri": "https://localhost:8080/"
        },
        "id": "nBznMWFzRePn",
        "outputId": "878a0184-6dda-40b9-b6c3-fa7987f31a80"
      },
      "execution_count": 27,
      "outputs": [
        {
          "output_type": "execute_result",
          "data": {
            "text/plain": [
              "{'instruction': 'Write a rejection letter for a job candidate',\n",
              " 'input': 'Dear John, \\n\\nWe appreciate your application to ABC Company. After careful consideration, we have decided not to move forward with your candidacy at this time.',\n",
              " 'output': 'We appreciate your enthusiasm and qualifications, but unfortunately we have decided to move forward with another candidate. We wish you all the best in your future endeavors and thank you for your interest in ABC Company.'}"
            ]
          },
          "metadata": {},
          "execution_count": 27
        }
      ]
    }
  ]
}